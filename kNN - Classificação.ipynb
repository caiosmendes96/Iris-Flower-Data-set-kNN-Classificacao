{
 "cells": [
  {
   "cell_type": "markdown",
   "id": "69a473e0",
   "metadata": {},
   "source": [
    "\n",
    "<div align=\"center\">\n",
    "    <h1>Atividade 2 - Caio Sousa Mendes e Felipe Baqueiro </h1>\n",
    "    <h3>ENGG67- T01 - Tópicos especiais em engenharia de computação </h3>\n",
    "    <h4>Prof.: Antônio C. L. Fernandes Júnior</h4>\n",
    "</div>"
   ]
  },
  {
   "cell_type": "markdown",
   "id": "7c09071b",
   "metadata": {},
   "source": [
    "<b> Questão A </b>"
   ]
  },
  {
   "cell_type": "markdown",
   "id": "f4bdecc6",
   "metadata": {},
   "source": [
    "Importação e transformação do banco de dados Íris para a classificação utilizando o algoritmo KNN euclidiano."
   ]
  },
  {
   "cell_type": "code",
   "execution_count": 49,
   "id": "cb9df29e",
   "metadata": {},
   "outputs": [
    {
     "data": {
      "text/html": [
       "<div>\n",
       "<style scoped>\n",
       "    .dataframe tbody tr th:only-of-type {\n",
       "        vertical-align: middle;\n",
       "    }\n",
       "\n",
       "    .dataframe tbody tr th {\n",
       "        vertical-align: top;\n",
       "    }\n",
       "\n",
       "    .dataframe thead th {\n",
       "        text-align: right;\n",
       "    }\n",
       "</style>\n",
       "<table border=\"1\" class=\"dataframe\">\n",
       "  <thead>\n",
       "    <tr style=\"text-align: right;\">\n",
       "      <th></th>\n",
       "      <th>Sepal_Length</th>\n",
       "      <th>Sepal_Width</th>\n",
       "      <th>Petal_Length</th>\n",
       "      <th>Petal_Width</th>\n",
       "      <th>Variety_num</th>\n",
       "    </tr>\n",
       "  </thead>\n",
       "  <tbody>\n",
       "    <tr>\n",
       "      <th>56</th>\n",
       "      <td>6.3</td>\n",
       "      <td>3.3</td>\n",
       "      <td>4.7</td>\n",
       "      <td>1.6</td>\n",
       "      <td>1</td>\n",
       "    </tr>\n",
       "    <tr>\n",
       "      <th>135</th>\n",
       "      <td>7.7</td>\n",
       "      <td>3.0</td>\n",
       "      <td>6.1</td>\n",
       "      <td>2.3</td>\n",
       "      <td>2</td>\n",
       "    </tr>\n",
       "    <tr>\n",
       "      <th>25</th>\n",
       "      <td>5.0</td>\n",
       "      <td>3.0</td>\n",
       "      <td>1.6</td>\n",
       "      <td>0.2</td>\n",
       "      <td>0</td>\n",
       "    </tr>\n",
       "    <tr>\n",
       "      <th>60</th>\n",
       "      <td>5.0</td>\n",
       "      <td>2.0</td>\n",
       "      <td>3.5</td>\n",
       "      <td>1.0</td>\n",
       "      <td>1</td>\n",
       "    </tr>\n",
       "    <tr>\n",
       "      <th>63</th>\n",
       "      <td>6.1</td>\n",
       "      <td>2.9</td>\n",
       "      <td>4.7</td>\n",
       "      <td>1.4</td>\n",
       "      <td>1</td>\n",
       "    </tr>\n",
       "  </tbody>\n",
       "</table>\n",
       "</div>"
      ],
      "text/plain": [
       "     Sepal_Length  Sepal_Width  Petal_Length  Petal_Width  Variety_num\n",
       "56            6.3          3.3           4.7          1.6            1\n",
       "135           7.7          3.0           6.1          2.3            2\n",
       "25            5.0          3.0           1.6          0.2            0\n",
       "60            5.0          2.0           3.5          1.0            1\n",
       "63            6.1          2.9           4.7          1.4            1"
      ]
     },
     "execution_count": 49,
     "metadata": {},
     "output_type": "execute_result"
    }
   ],
   "source": [
    "import pandas as pd\n",
    "import numpy as np\n",
    "import matplotlib.pyplot as plt\n",
    "import seaborn as sns\n",
    "from sklearn import neighbors\n",
    "from sklearn.model_selection import train_test_split\n",
    "from statistics import mean\n",
    "from sklearn.metrics import accuracy_score \n",
    "from sklearn.metrics import explained_variance_score as evs\n",
    "\n",
    "dados = 'http://archive.ics.uci.edu/ml/machine-learning-databases/iris/iris.data'\n",
    "\n",
    "atributos = ['Sepal_Length','Sepal_Width','Petal_Length','Petal_Width','Variety']\n",
    "\n",
    "iris =  pd.read_csv(dados, names = atributos)\n",
    "\n",
    "transformacao = {'Iris-setosa': 0, 'Iris-versicolor': 1, 'Iris-virginica': 2}\n",
    "\n",
    "\n",
    "iris['Variety_num'] = iris['Variety'].map(transformacao)\n",
    "\n",
    "\n",
    "iris = iris.drop(columns = 'Variety')\n",
    "\n",
    "x = iris.drop(columns = 'Variety_num')\n",
    "y = iris['Variety_num']\n",
    "\n",
    "iris.sample(5)\n"
   ]
  },
  {
   "cell_type": "markdown",
   "id": "d7176cff",
   "metadata": {},
   "source": [
    "<b>Atributo alvo: Variety </b>\n",
    "\n",
    "Para o treinamento do KNN, utilizamos 70% objetos para o treinamento e 30% para teste. </br></br>\n",
    "O parâmetro \"random_state\" em train_test_split  é responsável por randomizar a seleção dos objetos escolhidos para o treinamento e teste. </br></br>\n",
    "Ao alterar o valor do \"random_state\", os objetos de treinamento e teste serão diferentes. Com isso, os valores de acurácia e o melhor K poderão mudar. </br></br>\n",
    "Para esse experimento, utilizamos o \"random_state\" igual a 11. </br>\n",
    "\n",
    "Vamos procurar o melhor valor de K (hiperparâmetro) com os objetos de treinamento ao encontrar a maior acurácia variando o valor de vizinhos entre 1 e 20.  </br>"
   ]
  },
  {
   "cell_type": "code",
   "execution_count": 68,
   "id": "068c0054",
   "metadata": {},
   "outputs": [
    {
     "name": "stdout",
     "output_type": "stream",
     "text": [
      "Quantidade de objetos para o treino:  105\n",
      "Quantidade de objetos para o teste:  45\n",
      "-------------------------------------\n",
      "Maior Acurácia:  97.77777777777777\n",
      "Valor de k: 5\n"
     ]
    }
   ],
   "source": [
    "train_X, test_X, train_y, test_y = train_test_split(x, y, test_size = 0.30, random_state = 11)\n",
    "\n",
    "print(\"Quantidade de objetos para o treino: \", len(train_X))\n",
    "print(\"Quantidade de objetos para o teste: \", len(test_X))\n",
    "print(\"-------------------------------------\")\n",
    "\n",
    "listaAcuracia = []\n",
    "for n in range(1,20):\n",
    "    \n",
    "    knn = neighbors.KNeighborsClassifier(n_neighbors = n)\n",
    "    \n",
    "    knn.fit(train_X, train_y)\n",
    "    \n",
    "    predicaoTeste = knn.predict(test_X)\n",
    "    listaAcuracia.append(accuracy_score(test_y, predicaoTeste))\n",
    "    \n",
    "    \n",
    "\n",
    "melhorK = listaAcuracia.index(max(listaAcuracia)) + 1\n",
    "\n",
    "print(\"Maior Acurácia: \", max(listaAcuracia)*100)\n",
    "print(\"Valor de k:\", melhorK)\n",
    "\n"
   ]
  },
  {
   "cell_type": "markdown",
   "id": "bdd467a6",
   "metadata": {},
   "source": [
    "<b>Apresentação de um exemplo da classificação: </b>"
   ]
  },
  {
   "cell_type": "code",
   "execution_count": 70,
   "id": "30f16b12",
   "metadata": {},
   "outputs": [
    {
     "name": "stdout",
     "output_type": "stream",
     "text": [
      "Classificação com o melhor valor de K:  5\n",
      "Classificação (tabela):  Iris-versicolor\n",
      "Classificação (resultado KNN):  Iris-versicolor\n"
     ]
    },
    {
     "name": "stderr",
     "output_type": "stream",
     "text": [
      "C:\\Users\\caios\\anaconda3\\Lib\\site-packages\\sklearn\\base.py:464: UserWarning: X does not have valid feature names, but KNeighborsClassifier was fitted with feature names\n",
      "  warnings.warn(\n"
     ]
    }
   ],
   "source": [
    "melhorKnn = neighbors.KNeighborsClassifier(n_neighbors = melhorK)\n",
    "melhorKnn.fit(train_X, train_y)\n",
    "\n",
    "\n",
    "#Variáveis para uma predição utilizando regressão\n",
    "\n",
    "#Dados do objeto nº 98\n",
    "sepalLength = 5.1\n",
    "sepalWidth = 2.5\n",
    "petalLength = 3.0\n",
    "petalWidth = 1.1\n",
    "\n",
    "predicao = melhorKnn.predict([[sepalLength,sepalWidth,petalLength,petalWidth],])\n",
    "\n",
    "variety_names = {\n",
    "    0:'Iris-setosa',\n",
    "    1:'Iris-versicolor', \n",
    "    2:'Iris-virginica'\n",
    "}\n",
    "print(\"Classificação com o melhor valor de K: \", melhorK)\n",
    "print(\"Classificação (tabela): \", variety_names[y[98]] )\n",
    "print(\"Classificação (resultado KNN): \", variety_names[predicao[0]] )\n"
   ]
  },
  {
   "cell_type": "code",
   "execution_count": null,
   "id": "d778820c",
   "metadata": {},
   "outputs": [],
   "source": []
  },
  {
   "cell_type": "markdown",
   "id": "5c761716",
   "metadata": {},
   "source": []
  },
  {
   "cell_type": "code",
   "execution_count": null,
   "id": "dc75bc9d",
   "metadata": {},
   "outputs": [],
   "source": []
  }
 ],
 "metadata": {
  "kernelspec": {
   "display_name": "Python 3 (ipykernel)",
   "language": "python",
   "name": "python3"
  },
  "language_info": {
   "codemirror_mode": {
    "name": "ipython",
    "version": 3
   },
   "file_extension": ".py",
   "mimetype": "text/x-python",
   "name": "python",
   "nbconvert_exporter": "python",
   "pygments_lexer": "ipython3",
   "version": "3.11.5"
  }
 },
 "nbformat": 4,
 "nbformat_minor": 5
}
